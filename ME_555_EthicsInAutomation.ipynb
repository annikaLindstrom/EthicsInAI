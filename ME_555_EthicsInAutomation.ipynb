{
  "nbformat": 4,
  "nbformat_minor": 0,
  "metadata": {
    "colab": {
      "provenance": [],
      "collapsed_sections": [
        "rmqLDmihmhN6"
      ]
    },
    "kernelspec": {
      "name": "python3",
      "display_name": "Python 3"
    },
    "language_info": {
      "name": "python"
    }
  },
  "cells": [
    {
      "cell_type": "markdown",
      "source": [
        "# Bias in Data Science Workbook"
      ],
      "metadata": {
        "id": "ZB2pGm-jxFoq"
      }
    },
    {
      "cell_type": "markdown",
      "source": [
        "## Section 0: Define Visualization Functions"
      ],
      "metadata": {
        "id": "rmqLDmihmhN6"
      }
    },
    {
      "cell_type": "code",
      "source": [
        "def getPercentFemaleHired(x,y):\n",
        "\n",
        "  totals = np.zeros(10)\n",
        "\n",
        "  for index, row in x.iterrows():\n",
        "    # If female\n",
        "    if row['Sex'] == 1:\n",
        "      if y[index] == 1: # If employed\n",
        "        totals[0] +=1 # Number of females employed\n",
        "        totals[3] += row['Undergraduate GPA'] # GPA of employed females\n",
        "      else:\n",
        "        totals[1] += 1 # Number of unemployed females\n",
        "        totals[4] += row['Undergraduate GPA'] # gpa of unemployed females\n",
        "      totals[2] +=1 # total females\n",
        "\n",
        "    else:\n",
        "      if y[index]== 1: # If employed\n",
        "        totals[5] +=1 # employed males\n",
        "        totals[8] += row['Undergraduate GPA'] # employed male GPA\n",
        "      else:\n",
        "        totals[6] += 1 # unemployed males\n",
        "        totals[9] += row['Undergraduate GPA'] # gpa of unemployed males\n",
        "      totals[7] +=1   # total males\n",
        "\n",
        "  return totals"
      ],
      "metadata": {
        "id": "sVZXF8-IMkAr"
      },
      "execution_count": null,
      "outputs": []
    },
    {
      "cell_type": "code",
      "source": [
        "def visualizeResults(x, predictedY):\n",
        "\n",
        "  predictionResults = getPercentFemaleHired(x, predictedY)\n",
        "\n",
        "  labels = 'Females Hired', 'Males Hired'\n",
        "  percentageFemales = predictionResults[0]/(predictionResults[0] + predictionResults[5])\n",
        "  percentageMales = predictionResults[5]/(predictionResults[0] + predictionResults[5])\n",
        "  sizes = [percentageFemales, percentageMales]\n",
        "\n",
        "  fig, ax = plt.subplots();\n",
        "  ax.pie(sizes, labels=labels, autopct='%1.1f%%');"
      ],
      "metadata": {
        "id": "zMnT2YE-xWNi"
      },
      "execution_count": null,
      "outputs": []
    },
    {
      "cell_type": "code",
      "source": [
        "def visualizeData(trainingData, validationData):\n",
        "\n",
        "  fig, ax = plt.subplots(1,4, figsize=(18, 5));\n",
        "  ax[0].pie([trainingData[0]/(trainingData[0]+trainingData[5]),\n",
        "          trainingData[5]/(trainingData[0]+trainingData[5])],\n",
        "        labels=['Females Employed', 'Males Employed'], autopct='%1.1f%%');\n",
        "  ax[0].set_title('Percent of Females Employed');\n",
        "\n",
        "  ax[1].pie([validationData[2], validationData[7]],\n",
        "        labels=['Females', 'Males'], autopct='%1.1f%%');\n",
        "  ax[1].set_title('Validation Dataset');\n",
        "\n",
        "  ax[2].bar(['Female', 'Male'],\n",
        "            [trainingData[3]/trainingData[0], trainingData[8]/trainingData[5]],\n",
        "            color ='maroon', width = 0.4)\n",
        "  ax[2].set_title('Employed GPA Comparison');\n",
        "\n",
        "  ax[3].bar(['Female', 'Male'],\n",
        "            [trainingData[4]/trainingData[1], trainingData[9]/trainingData[6]],\n",
        "            color ='maroon', width = 0.4)\n",
        "  ax[3].set_title('Unemployed GPA Comparison');"
      ],
      "metadata": {
        "id": "u_CoFGM_qX-n"
      },
      "execution_count": null,
      "outputs": []
    },
    {
      "cell_type": "markdown",
      "source": [
        "## Section 1: Setup and inital data visualization"
      ],
      "metadata": {
        "id": "tZqiSqu3BriD"
      }
    },
    {
      "cell_type": "code",
      "execution_count": null,
      "metadata": {
        "colab": {
          "base_uri": "https://localhost:8080/",
          "height": 334
        },
        "id": "AzuUkdKEzdxE",
        "outputId": "3feb7b7d-dfe0-4170-dc79-6c20eddac5f4"
      },
      "outputs": [
        {
          "output_type": "execute_result",
          "data": {
            "text/plain": [
              "   Sex  Race  Age  Undergraduate School Name  Undergraduate GPA  \\\n",
              "0    1     2   22                          4                3.6   \n",
              "1    1     5   38                         21                3.5   \n",
              "2    1     5   24                         10                3.2   \n",
              "3    1     3   30                         18                3.3   \n",
              "4    1     3   23                         10                3.7   \n",
              "\n",
              "   Undergraduate Major  Graduate School Name  Graduate GPA  Graduate Major  \\\n",
              "0                    2                     4           3.6               2   \n",
              "1                    5                    21           3.5               5   \n",
              "2                    6                    10           3.2               6   \n",
              "3                    6                    18           3.3               6   \n",
              "4                    2                    10           3.7               2   \n",
              "\n",
              "   Activity1  ...  Activity4  Activity5  Activity6  Activity7  Skill1  Skill2  \\\n",
              "0          6  ...         18         26         14         15      14      10   \n",
              "1          1  ...         17         24         15          0      11      14   \n",
              "2          5  ...         20         14         15          0       8       2   \n",
              "3          3  ...         15         21         17          0      10       6   \n",
              "4          6  ...         20         25         21         19       7      16   \n",
              "\n",
              "   Skill3  Skill4  Skill5  Is Employed  \n",
              "0       7       9       1            1  \n",
              "1      10      15       0            1  \n",
              "2      15       5       0            1  \n",
              "3       7       9       0            1  \n",
              "4      17      10      12            1  \n",
              "\n",
              "[5 rows x 22 columns]"
            ],
            "text/html": [
              "\n",
              "  <div id=\"df-15ba46f8-6170-4951-afa0-ac5b1852e743\">\n",
              "    <div class=\"colab-df-container\">\n",
              "      <div>\n",
              "<style scoped>\n",
              "    .dataframe tbody tr th:only-of-type {\n",
              "        vertical-align: middle;\n",
              "    }\n",
              "\n",
              "    .dataframe tbody tr th {\n",
              "        vertical-align: top;\n",
              "    }\n",
              "\n",
              "    .dataframe thead th {\n",
              "        text-align: right;\n",
              "    }\n",
              "</style>\n",
              "<table border=\"1\" class=\"dataframe\">\n",
              "  <thead>\n",
              "    <tr style=\"text-align: right;\">\n",
              "      <th></th>\n",
              "      <th>Sex</th>\n",
              "      <th>Race</th>\n",
              "      <th>Age</th>\n",
              "      <th>Undergraduate School Name</th>\n",
              "      <th>Undergraduate GPA</th>\n",
              "      <th>Undergraduate Major</th>\n",
              "      <th>Graduate School Name</th>\n",
              "      <th>Graduate GPA</th>\n",
              "      <th>Graduate Major</th>\n",
              "      <th>Activity1</th>\n",
              "      <th>...</th>\n",
              "      <th>Activity4</th>\n",
              "      <th>Activity5</th>\n",
              "      <th>Activity6</th>\n",
              "      <th>Activity7</th>\n",
              "      <th>Skill1</th>\n",
              "      <th>Skill2</th>\n",
              "      <th>Skill3</th>\n",
              "      <th>Skill4</th>\n",
              "      <th>Skill5</th>\n",
              "      <th>Is Employed</th>\n",
              "    </tr>\n",
              "  </thead>\n",
              "  <tbody>\n",
              "    <tr>\n",
              "      <th>0</th>\n",
              "      <td>1</td>\n",
              "      <td>2</td>\n",
              "      <td>22</td>\n",
              "      <td>4</td>\n",
              "      <td>3.6</td>\n",
              "      <td>2</td>\n",
              "      <td>4</td>\n",
              "      <td>3.6</td>\n",
              "      <td>2</td>\n",
              "      <td>6</td>\n",
              "      <td>...</td>\n",
              "      <td>18</td>\n",
              "      <td>26</td>\n",
              "      <td>14</td>\n",
              "      <td>15</td>\n",
              "      <td>14</td>\n",
              "      <td>10</td>\n",
              "      <td>7</td>\n",
              "      <td>9</td>\n",
              "      <td>1</td>\n",
              "      <td>1</td>\n",
              "    </tr>\n",
              "    <tr>\n",
              "      <th>1</th>\n",
              "      <td>1</td>\n",
              "      <td>5</td>\n",
              "      <td>38</td>\n",
              "      <td>21</td>\n",
              "      <td>3.5</td>\n",
              "      <td>5</td>\n",
              "      <td>21</td>\n",
              "      <td>3.5</td>\n",
              "      <td>5</td>\n",
              "      <td>1</td>\n",
              "      <td>...</td>\n",
              "      <td>17</td>\n",
              "      <td>24</td>\n",
              "      <td>15</td>\n",
              "      <td>0</td>\n",
              "      <td>11</td>\n",
              "      <td>14</td>\n",
              "      <td>10</td>\n",
              "      <td>15</td>\n",
              "      <td>0</td>\n",
              "      <td>1</td>\n",
              "    </tr>\n",
              "    <tr>\n",
              "      <th>2</th>\n",
              "      <td>1</td>\n",
              "      <td>5</td>\n",
              "      <td>24</td>\n",
              "      <td>10</td>\n",
              "      <td>3.2</td>\n",
              "      <td>6</td>\n",
              "      <td>10</td>\n",
              "      <td>3.2</td>\n",
              "      <td>6</td>\n",
              "      <td>5</td>\n",
              "      <td>...</td>\n",
              "      <td>20</td>\n",
              "      <td>14</td>\n",
              "      <td>15</td>\n",
              "      <td>0</td>\n",
              "      <td>8</td>\n",
              "      <td>2</td>\n",
              "      <td>15</td>\n",
              "      <td>5</td>\n",
              "      <td>0</td>\n",
              "      <td>1</td>\n",
              "    </tr>\n",
              "    <tr>\n",
              "      <th>3</th>\n",
              "      <td>1</td>\n",
              "      <td>3</td>\n",
              "      <td>30</td>\n",
              "      <td>18</td>\n",
              "      <td>3.3</td>\n",
              "      <td>6</td>\n",
              "      <td>18</td>\n",
              "      <td>3.3</td>\n",
              "      <td>6</td>\n",
              "      <td>3</td>\n",
              "      <td>...</td>\n",
              "      <td>15</td>\n",
              "      <td>21</td>\n",
              "      <td>17</td>\n",
              "      <td>0</td>\n",
              "      <td>10</td>\n",
              "      <td>6</td>\n",
              "      <td>7</td>\n",
              "      <td>9</td>\n",
              "      <td>0</td>\n",
              "      <td>1</td>\n",
              "    </tr>\n",
              "    <tr>\n",
              "      <th>4</th>\n",
              "      <td>1</td>\n",
              "      <td>3</td>\n",
              "      <td>23</td>\n",
              "      <td>10</td>\n",
              "      <td>3.7</td>\n",
              "      <td>2</td>\n",
              "      <td>10</td>\n",
              "      <td>3.7</td>\n",
              "      <td>2</td>\n",
              "      <td>6</td>\n",
              "      <td>...</td>\n",
              "      <td>20</td>\n",
              "      <td>25</td>\n",
              "      <td>21</td>\n",
              "      <td>19</td>\n",
              "      <td>7</td>\n",
              "      <td>16</td>\n",
              "      <td>17</td>\n",
              "      <td>10</td>\n",
              "      <td>12</td>\n",
              "      <td>1</td>\n",
              "    </tr>\n",
              "  </tbody>\n",
              "</table>\n",
              "<p>5 rows × 22 columns</p>\n",
              "</div>\n",
              "      <button class=\"colab-df-convert\" onclick=\"convertToInteractive('df-15ba46f8-6170-4951-afa0-ac5b1852e743')\"\n",
              "              title=\"Convert this dataframe to an interactive table.\"\n",
              "              style=\"display:none;\">\n",
              "        \n",
              "  <svg xmlns=\"http://www.w3.org/2000/svg\" height=\"24px\"viewBox=\"0 0 24 24\"\n",
              "       width=\"24px\">\n",
              "    <path d=\"M0 0h24v24H0V0z\" fill=\"none\"/>\n",
              "    <path d=\"M18.56 5.44l.94 2.06.94-2.06 2.06-.94-2.06-.94-.94-2.06-.94 2.06-2.06.94zm-11 1L8.5 8.5l.94-2.06 2.06-.94-2.06-.94L8.5 2.5l-.94 2.06-2.06.94zm10 10l.94 2.06.94-2.06 2.06-.94-2.06-.94-.94-2.06-.94 2.06-2.06.94z\"/><path d=\"M17.41 7.96l-1.37-1.37c-.4-.4-.92-.59-1.43-.59-.52 0-1.04.2-1.43.59L10.3 9.45l-7.72 7.72c-.78.78-.78 2.05 0 2.83L4 21.41c.39.39.9.59 1.41.59.51 0 1.02-.2 1.41-.59l7.78-7.78 2.81-2.81c.8-.78.8-2.07 0-2.86zM5.41 20L4 18.59l7.72-7.72 1.47 1.35L5.41 20z\"/>\n",
              "  </svg>\n",
              "      </button>\n",
              "      \n",
              "  <style>\n",
              "    .colab-df-container {\n",
              "      display:flex;\n",
              "      flex-wrap:wrap;\n",
              "      gap: 12px;\n",
              "    }\n",
              "\n",
              "    .colab-df-convert {\n",
              "      background-color: #E8F0FE;\n",
              "      border: none;\n",
              "      border-radius: 50%;\n",
              "      cursor: pointer;\n",
              "      display: none;\n",
              "      fill: #1967D2;\n",
              "      height: 32px;\n",
              "      padding: 0 0 0 0;\n",
              "      width: 32px;\n",
              "    }\n",
              "\n",
              "    .colab-df-convert:hover {\n",
              "      background-color: #E2EBFA;\n",
              "      box-shadow: 0px 1px 2px rgba(60, 64, 67, 0.3), 0px 1px 3px 1px rgba(60, 64, 67, 0.15);\n",
              "      fill: #174EA6;\n",
              "    }\n",
              "\n",
              "    [theme=dark] .colab-df-convert {\n",
              "      background-color: #3B4455;\n",
              "      fill: #D2E3FC;\n",
              "    }\n",
              "\n",
              "    [theme=dark] .colab-df-convert:hover {\n",
              "      background-color: #434B5C;\n",
              "      box-shadow: 0px 1px 3px 1px rgba(0, 0, 0, 0.15);\n",
              "      filter: drop-shadow(0px 1px 2px rgba(0, 0, 0, 0.3));\n",
              "      fill: #FFFFFF;\n",
              "    }\n",
              "  </style>\n",
              "\n",
              "      <script>\n",
              "        const buttonEl =\n",
              "          document.querySelector('#df-15ba46f8-6170-4951-afa0-ac5b1852e743 button.colab-df-convert');\n",
              "        buttonEl.style.display =\n",
              "          google.colab.kernel.accessAllowed ? 'block' : 'none';\n",
              "\n",
              "        async function convertToInteractive(key) {\n",
              "          const element = document.querySelector('#df-15ba46f8-6170-4951-afa0-ac5b1852e743');\n",
              "          const dataTable =\n",
              "            await google.colab.kernel.invokeFunction('convertToInteractive',\n",
              "                                                     [key], {});\n",
              "          if (!dataTable) return;\n",
              "\n",
              "          const docLinkHtml = 'Like what you see? Visit the ' +\n",
              "            '<a target=\"_blank\" href=https://colab.research.google.com/notebooks/data_table.ipynb>data table notebook</a>'\n",
              "            + ' to learn more about interactive tables.';\n",
              "          element.innerHTML = '';\n",
              "          dataTable['output_type'] = 'display_data';\n",
              "          await google.colab.output.renderOutput(dataTable, element);\n",
              "          const docLink = document.createElement('div');\n",
              "          docLink.innerHTML = docLinkHtml;\n",
              "          element.appendChild(docLink);\n",
              "        }\n",
              "      </script>\n",
              "    </div>\n",
              "  </div>\n",
              "  "
            ]
          },
          "metadata": {},
          "execution_count": 1
        }
      ],
      "source": [
        "import pandas\n",
        "import numpy as np\n",
        "import matplotlib.pyplot as plt\n",
        "\n",
        "# Import csv files as pandas data frame\n",
        "resumeData = pandas.read_csv('./sample_data/TrainingData.csv').drop(columns=['Person Number'])\n",
        "validationData = pandas.read_csv('./sample_data/ValidationData.csv').drop(columns=['Person Number'])\n",
        "\n",
        "# Show first few rows\n",
        "resumeData.head(5)"
      ]
    },
    {
      "cell_type": "markdown",
      "source": [
        "Create X,Y data for training and validation that we will use later on"
      ],
      "metadata": {
        "id": "adlD4rsIBnXq"
      }
    },
    {
      "cell_type": "code",
      "source": [
        "y_train = resumeData.loc[:, 'Is Employed']\n",
        "x_train = resumeData.drop(columns=['Is Employed'])\n",
        "\n",
        "y_valid = validationData.loc[:, 'Is Employed']\n",
        "x_valid = validationData.drop(columns=['Is Employed'])"
      ],
      "metadata": {
        "id": "IbLZ8pFx1KUg"
      },
      "execution_count": null,
      "outputs": []
    },
    {
      "cell_type": "markdown",
      "source": [
        "Let's visualize the breakdown of the training and validation datasets."
      ],
      "metadata": {
        "id": "R090l-3bmjDJ"
      }
    },
    {
      "cell_type": "code",
      "source": [
        "trainingDataBreakdown = getPercentFemaleHired(x_train, y_train)\n",
        "validationDataBreakdown = getPercentFemaleHired(x_valid, y_valid)\n",
        "\n",
        "visualizeData(trainingDataBreakdown, validationDataBreakdown)"
      ],
      "metadata": {
        "colab": {
          "base_uri": "https://localhost:8080/",
          "height": 336
        },
        "id": "n02cLKrcmmu0",
        "outputId": "61a1c4a4-6882-42be-fba1-6c3072534550"
      },
      "execution_count": null,
      "outputs": [
        {
          "output_type": "display_data",
          "data": {
            "text/plain": [
              "<Figure size 1296x360 with 4 Axes>"
            ],
            "image/png": "[encoded data removed]"
          },
          "metadata": {
            "needs_background": "light"
          }
        }
      ]
    },
    {
      "cell_type": "markdown",
      "source": [
        "## Section 2: Apply Classification Models\n",
        "\n",
        "Now that we have our formatted data, both training and validation datasets, we can do a grid search to find the best classifier and its parameters for this specific data"
      ],
      "metadata": {
        "id": "y1RSjkuoxbGY"
      }
    },
    {
      "cell_type": "code",
      "source": [
        "from sklearn.neighbors import KNeighborsClassifier\n",
        "from sklearn.linear_model import LogisticRegression\n",
        "from sklearn.svm import SVC\n",
        "from sklearn.ensemble import RandomForestClassifier\n",
        "from sklearn.pipeline import Pipeline\n",
        "from sklearn.model_selection import GridSearchCV\n",
        "from sklearn.preprocessing import StandardScaler\n",
        "from sklearn.model_selection import train_test_split\n",
        "\n",
        "# Least Squares\n",
        "lr = LogisticRegression()\n",
        "param1 = {}\n",
        "param1['estimator__C'] = [10**-2, 10**-1, 10**0]\n",
        "param1['estimator'] = [lr]\n",
        "\n",
        "# Support Vector Machine\n",
        "param2 = {}\n",
        "\n",
        "param2['estimator__C'] = [5.0, 10, 20]\n",
        "param2['estimator'] = [SVC()]\n",
        "\n",
        "# K-nearest neighbors\n",
        "param3 = {}\n",
        "param3['estimator__n_neighbors'] = [3, 5, 7]\n",
        "param3['estimator'] = [KNeighborsClassifier()]\n",
        "\n",
        "# Elastic Net\n",
        "param4 = {}\n",
        "param4['estimator__n_estimators'] = [10, 100, 500]\n",
        "param4['estimator'] = [RandomForestClassifier()]\n",
        "\n",
        "pipe = Pipeline([('scaler', StandardScaler()),('estimator', lr)])\n",
        "\n",
        "params = [param1, param2, param3, param4]\n",
        "\n",
        "gs = GridSearchCV(pipe, params);\n",
        "gs.fit(x_train, y_train);"
      ],
      "metadata": {
        "id": "UgIo2GiL18Ip"
      },
      "execution_count": null,
      "outputs": []
    },
    {
      "cell_type": "code",
      "source": [
        "print(gs.best_params_)\n",
        "results = pandas.DataFrame(gs.cv_results_)\n",
        "results.head(12)"
      ],
      "metadata": {
        "colab": {
          "base_uri": "https://localhost:8080/",
          "height": 715
        },
        "id": "6Z-Gmwj3sjGI",
        "outputId": "40d6c965-0eaf-4afc-df10-615a8b0d6063"
      },
      "execution_count": null,
      "outputs": [
        {
          "output_type": "stream",
          "name": "stdout",
          "text": [
            "{'estimator': RandomForestClassifier(n_estimators=500), 'estimator__n_estimators': 500}\n"
          ]
        },
        {
          "output_type": "execute_result",
          "data": {
            "text/plain": [
              "    mean_fit_time  std_fit_time  mean_score_time  std_score_time  \\\n",
              "0        0.081175      0.017204         0.010077        0.002026   \n",
              "1        0.099119      0.056857         0.009542        0.001748   \n",
              "2        0.087445      0.010268         0.008153        0.002446   \n",
              "3        1.564786      0.902651         0.222260        0.058646   \n",
              "4        0.905129      0.110708         0.176163        0.044319   \n",
              "5        2.159252      0.499899         0.246598        0.042484   \n",
              "6        0.033764      0.029395         0.455864        0.145523   \n",
              "7        0.028545      0.008681         0.472094        0.059562   \n",
              "8        0.018937      0.012966         0.241577        0.043306   \n",
              "9        0.115387      0.016251         0.010899        0.003085   \n",
              "10       1.233400      0.505201         0.076738        0.052986   \n",
              "11       3.428170      0.321119         0.157958        0.026995   \n",
              "\n",
              "                             param_estimator param_estimator__C  \\\n",
              "0                       LogisticRegression()               0.01   \n",
              "1                       LogisticRegression()                0.1   \n",
              "2                       LogisticRegression()                  1   \n",
              "3                                      SVC()                5.0   \n",
              "4                                      SVC()                 10   \n",
              "5                                      SVC()                 20   \n",
              "6                     KNeighborsClassifier()                NaN   \n",
              "7                     KNeighborsClassifier()                NaN   \n",
              "8                     KNeighborsClassifier()                NaN   \n",
              "9   RandomForestClassifier(n_estimators=500)                NaN   \n",
              "10  RandomForestClassifier(n_estimators=500)                NaN   \n",
              "11  RandomForestClassifier(n_estimators=500)                NaN   \n",
              "\n",
              "   param_estimator__n_neighbors param_estimator__n_estimators  \\\n",
              "0                           NaN                           NaN   \n",
              "1                           NaN                           NaN   \n",
              "2                           NaN                           NaN   \n",
              "3                           NaN                           NaN   \n",
              "4                           NaN                           NaN   \n",
              "5                           NaN                           NaN   \n",
              "6                             3                           NaN   \n",
              "7                             5                           NaN   \n",
              "8                             7                           NaN   \n",
              "9                           NaN                            10   \n",
              "10                          NaN                           100   \n",
              "11                          NaN                           500   \n",
              "\n",
              "                                               params  split0_test_score  \\\n",
              "0   {'estimator': LogisticRegression(), 'estimator...                0.6   \n",
              "1   {'estimator': LogisticRegression(), 'estimator...                0.6   \n",
              "2   {'estimator': LogisticRegression(), 'estimator...                0.6   \n",
              "3           {'estimator': SVC(), 'estimator__C': 5.0}                0.6   \n",
              "4            {'estimator': SVC(), 'estimator__C': 10}                0.6   \n",
              "5            {'estimator': SVC(), 'estimator__C': 20}                0.6   \n",
              "6   {'estimator': KNeighborsClassifier(), 'estimat...                0.6   \n",
              "7   {'estimator': KNeighborsClassifier(), 'estimat...                0.6   \n",
              "8   {'estimator': KNeighborsClassifier(), 'estimat...                0.6   \n",
              "9   {'estimator': RandomForestClassifier(n_estimat...                0.6   \n",
              "10  {'estimator': RandomForestClassifier(n_estimat...                0.6   \n",
              "11  {'estimator': RandomForestClassifier(n_estimat...                0.6   \n",
              "\n",
              "    split1_test_score  split2_test_score  split3_test_score  \\\n",
              "0               0.836              0.796              0.696   \n",
              "1               0.828              0.791              0.698   \n",
              "2               0.824              0.792              0.697   \n",
              "3               0.801              0.797              0.695   \n",
              "4               0.771              0.754              0.690   \n",
              "5               0.741              0.727              0.688   \n",
              "6               0.731              0.729              0.683   \n",
              "7               0.746              0.760              0.694   \n",
              "8               0.766              0.767              0.694   \n",
              "9               0.777              0.760              0.692   \n",
              "10              0.852              0.821              0.700   \n",
              "11              0.879              0.842              0.699   \n",
              "\n",
              "    split4_test_score  mean_test_score  std_test_score  rank_test_score  \n",
              "0               0.708           0.7272        0.082575                3  \n",
              "1               0.706           0.7246        0.079598                4  \n",
              "2               0.705           0.7236        0.078853                5  \n",
              "3               0.702           0.7190        0.074611                6  \n",
              "4               0.704           0.7038        0.060001                9  \n",
              "5               0.690           0.6892        0.049134               12  \n",
              "6               0.709           0.6904        0.048397               11  \n",
              "7               0.700           0.7000        0.056128               10  \n",
              "8               0.697           0.7048        0.061278                8  \n",
              "9               0.699           0.7056        0.062349                7  \n",
              "10              0.708           0.7362        0.090837                2  \n",
              "11              0.704           0.7448        0.102163                1  "
            ],
            "text/html": [
              "\n",
              "  <div id=\"df-6d1b301e-7714-4f18-91b8-0ffb0b6f8274\">\n",
              "    <div class=\"colab-df-container\">\n",
              "      <div>\n",
              "<style scoped>\n",
              "    .dataframe tbody tr th:only-of-type {\n",
              "        vertical-align: middle;\n",
              "    }\n",
              "\n",
              "    .dataframe tbody tr th {\n",
              "        vertical-align: top;\n",
              "    }\n",
              "\n",
              "    .dataframe thead th {\n",
              "        text-align: right;\n",
              "    }\n",
              "</style>\n",
              "<table border=\"1\" class=\"dataframe\">\n",
              "  <thead>\n",
              "    <tr style=\"text-align: right;\">\n",
              "      <th></th>\n",
              "      <th>mean_fit_time</th>\n",
              "      <th>std_fit_time</th>\n",
              "      <th>mean_score_time</th>\n",
              "      <th>std_score_time</th>\n",
              "      <th>param_estimator</th>\n",
              "      <th>param_estimator__C</th>\n",
              "      <th>param_estimator__n_neighbors</th>\n",
              "      <th>param_estimator__n_estimators</th>\n",
              "      <th>params</th>\n",
              "      <th>split0_test_score</th>\n",
              "      <th>split1_test_score</th>\n",
              "      <th>split2_test_score</th>\n",
              "      <th>split3_test_score</th>\n",
              "      <th>split4_test_score</th>\n",
              "      <th>mean_test_score</th>\n",
              "      <th>std_test_score</th>\n",
              "      <th>rank_test_score</th>\n",
              "    </tr>\n",
              "  </thead>\n",
              "  <tbody>\n",
              "    <tr>\n",
              "      <th>0</th>\n",
              "      <td>0.081175</td>\n",
              "      <td>0.017204</td>\n",
              "      <td>0.010077</td>\n",
              "      <td>0.002026</td>\n",
              "      <td>LogisticRegression()</td>\n",
              "      <td>0.01</td>\n",
              "      <td>NaN</td>\n",
              "      <td>NaN</td>\n",
              "      <td>{'estimator': LogisticRegression(), 'estimator...</td>\n",
              "      <td>0.6</td>\n",
              "      <td>0.836</td>\n",
              "      <td>0.796</td>\n",
              "      <td>0.696</td>\n",
              "      <td>0.708</td>\n",
              "      <td>0.7272</td>\n",
              "      <td>0.082575</td>\n",
              "      <td>3</td>\n",
              "    </tr>\n",
              "    <tr>\n",
              "      <th>1</th>\n",
              "      <td>0.099119</td>\n",
              "      <td>0.056857</td>\n",
              "      <td>0.009542</td>\n",
              "      <td>0.001748</td>\n",
              "      <td>LogisticRegression()</td>\n",
              "      <td>0.1</td>\n",
              "      <td>NaN</td>\n",
              "      <td>NaN</td>\n",
              "      <td>{'estimator': LogisticRegression(), 'estimator...</td>\n",
              "      <td>0.6</td>\n",
              "      <td>0.828</td>\n",
              "      <td>0.791</td>\n",
              "      <td>0.698</td>\n",
              "      <td>0.706</td>\n",
              "      <td>0.7246</td>\n",
              "      <td>0.079598</td>\n",
              "      <td>4</td>\n",
              "    </tr>\n",
              "    <tr>\n",
              "      <th>2</th>\n",
              "      <td>0.087445</td>\n",
              "      <td>0.010268</td>\n",
              "      <td>0.008153</td>\n",
              "      <td>0.002446</td>\n",
              "      <td>LogisticRegression()</td>\n",
              "      <td>1</td>\n",
              "      <td>NaN</td>\n",
              "      <td>NaN</td>\n",
              "      <td>{'estimator': LogisticRegression(), 'estimator...</td>\n",
              "      <td>0.6</td>\n",
              "      <td>0.824</td>\n",
              "      <td>0.792</td>\n",
              "      <td>0.697</td>\n",
              "      <td>0.705</td>\n",
              "      <td>0.7236</td>\n",
              "      <td>0.078853</td>\n",
              "      <td>5</td>\n",
              "    </tr>\n",
              "    <tr>\n",
              "      <th>3</th>\n",
              "      <td>1.564786</td>\n",
              "      <td>0.902651</td>\n",
              "      <td>0.222260</td>\n",
              "      <td>0.058646</td>\n",
              "      <td>SVC()</td>\n",
              "      <td>5.0</td>\n",
              "      <td>NaN</td>\n",
              "      <td>NaN</td>\n",
              "      <td>{'estimator': SVC(), 'estimator__C': 5.0}</td>\n",
              "      <td>0.6</td>\n",
              "      <td>0.801</td>\n",
              "      <td>0.797</td>\n",
              "      <td>0.695</td>\n",
              "      <td>0.702</td>\n",
              "      <td>0.7190</td>\n",
              "      <td>0.074611</td>\n",
              "      <td>6</td>\n",
              "    </tr>\n",
              "    <tr>\n",
              "      <th>4</th>\n",
              "      <td>0.905129</td>\n",
              "      <td>0.110708</td>\n",
              "      <td>0.176163</td>\n",
              "      <td>0.044319</td>\n",
              "      <td>SVC()</td>\n",
              "      <td>10</td>\n",
              "      <td>NaN</td>\n",
              "      <td>NaN</td>\n",
              "      <td>{'estimator': SVC(), 'estimator__C': 10}</td>\n",
              "      <td>0.6</td>\n",
              "      <td>0.771</td>\n",
              "      <td>0.754</td>\n",
              "      <td>0.690</td>\n",
              "      <td>0.704</td>\n",
              "      <td>0.7038</td>\n",
              "      <td>0.060001</td>\n",
              "      <td>9</td>\n",
              "    </tr>\n",
              "    <tr>\n",
              "      <th>5</th>\n",
              "      <td>2.159252</td>\n",
              "      <td>0.499899</td>\n",
              "      <td>0.246598</td>\n",
              "      <td>0.042484</td>\n",
              "      <td>SVC()</td>\n",
              "      <td>20</td>\n",
              "      <td>NaN</td>\n",
              "      <td>NaN</td>\n",
              "      <td>{'estimator': SVC(), 'estimator__C': 20}</td>\n",
              "      <td>0.6</td>\n",
              "      <td>0.741</td>\n",
              "      <td>0.727</td>\n",
              "      <td>0.688</td>\n",
              "      <td>0.690</td>\n",
              "      <td>0.6892</td>\n",
              "      <td>0.049134</td>\n",
              "      <td>12</td>\n",
              "    </tr>\n",
              "    <tr>\n",
              "      <th>6</th>\n",
              "      <td>0.033764</td>\n",
              "      <td>0.029395</td>\n",
              "      <td>0.455864</td>\n",
              "      <td>0.145523</td>\n",
              "      <td>KNeighborsClassifier()</td>\n",
              "      <td>NaN</td>\n",
              "      <td>3</td>\n",
              "      <td>NaN</td>\n",
              "      <td>{'estimator': KNeighborsClassifier(), 'estimat...</td>\n",
              "      <td>0.6</td>\n",
              "      <td>0.731</td>\n",
              "      <td>0.729</td>\n",
              "      <td>0.683</td>\n",
              "      <td>0.709</td>\n",
              "      <td>0.6904</td>\n",
              "      <td>0.048397</td>\n",
              "      <td>11</td>\n",
              "    </tr>\n",
              "    <tr>\n",
              "      <th>7</th>\n",
              "      <td>0.028545</td>\n",
              "      <td>0.008681</td>\n",
              "      <td>0.472094</td>\n",
              "      <td>0.059562</td>\n",
              "      <td>KNeighborsClassifier()</td>\n",
              "      <td>NaN</td>\n",
              "      <td>5</td>\n",
              "      <td>NaN</td>\n",
              "      <td>{'estimator': KNeighborsClassifier(), 'estimat...</td>\n",
              "      <td>0.6</td>\n",
              "      <td>0.746</td>\n",
              "      <td>0.760</td>\n",
              "      <td>0.694</td>\n",
              "      <td>0.700</td>\n",
              "      <td>0.7000</td>\n",
              "      <td>0.056128</td>\n",
              "      <td>10</td>\n",
              "    </tr>\n",
              "    <tr>\n",
              "      <th>8</th>\n",
              "      <td>0.018937</td>\n",
              "      <td>0.012966</td>\n",
              "      <td>0.241577</td>\n",
              "      <td>0.043306</td>\n",
              "      <td>KNeighborsClassifier()</td>\n",
              "      <td>NaN</td>\n",
              "      <td>7</td>\n",
              "      <td>NaN</td>\n",
              "      <td>{'estimator': KNeighborsClassifier(), 'estimat...</td>\n",
              "      <td>0.6</td>\n",
              "      <td>0.766</td>\n",
              "      <td>0.767</td>\n",
              "      <td>0.694</td>\n",
              "      <td>0.697</td>\n",
              "      <td>0.7048</td>\n",
              "      <td>0.061278</td>\n",
              "      <td>8</td>\n",
              "    </tr>\n",
              "    <tr>\n",
              "      <th>9</th>\n",
              "      <td>0.115387</td>\n",
              "      <td>0.016251</td>\n",
              "      <td>0.010899</td>\n",
              "      <td>0.003085</td>\n",
              "      <td>RandomForestClassifier(n_estimators=500)</td>\n",
              "      <td>NaN</td>\n",
              "      <td>NaN</td>\n",
              "      <td>10</td>\n",
              "      <td>{'estimator': RandomForestClassifier(n_estimat...</td>\n",
              "      <td>0.6</td>\n",
              "      <td>0.777</td>\n",
              "      <td>0.760</td>\n",
              "      <td>0.692</td>\n",
              "      <td>0.699</td>\n",
              "      <td>0.7056</td>\n",
              "      <td>0.062349</td>\n",
              "      <td>7</td>\n",
              "    </tr>\n",
              "    <tr>\n",
              "      <th>10</th>\n",
              "      <td>1.233400</td>\n",
              "      <td>0.505201</td>\n",
              "      <td>0.076738</td>\n",
              "      <td>0.052986</td>\n",
              "      <td>RandomForestClassifier(n_estimators=500)</td>\n",
              "      <td>NaN</td>\n",
              "      <td>NaN</td>\n",
              "      <td>100</td>\n",
              "      <td>{'estimator': RandomForestClassifier(n_estimat...</td>\n",
              "      <td>0.6</td>\n",
              "      <td>0.852</td>\n",
              "      <td>0.821</td>\n",
              "      <td>0.700</td>\n",
              "      <td>0.708</td>\n",
              "      <td>0.7362</td>\n",
              "      <td>0.090837</td>\n",
              "      <td>2</td>\n",
              "    </tr>\n",
              "    <tr>\n",
              "      <th>11</th>\n",
              "      <td>3.428170</td>\n",
              "      <td>0.321119</td>\n",
              "      <td>0.157958</td>\n",
              "      <td>0.026995</td>\n",
              "      <td>RandomForestClassifier(n_estimators=500)</td>\n",
              "      <td>NaN</td>\n",
              "      <td>NaN</td>\n",
              "      <td>500</td>\n",
              "      <td>{'estimator': RandomForestClassifier(n_estimat...</td>\n",
              "      <td>0.6</td>\n",
              "      <td>0.879</td>\n",
              "      <td>0.842</td>\n",
              "      <td>0.699</td>\n",
              "      <td>0.704</td>\n",
              "      <td>0.7448</td>\n",
              "      <td>0.102163</td>\n",
              "      <td>1</td>\n",
              "    </tr>\n",
              "  </tbody>\n",
              "</table>\n",
              "</div>\n",
              "      <button class=\"colab-df-convert\" onclick=\"convertToInteractive('df-6d1b301e-7714-4f18-91b8-0ffb0b6f8274')\"\n",
              "              title=\"Convert this dataframe to an interactive table.\"\n",
              "              style=\"display:none;\">\n",
              "        \n",
              "  <svg xmlns=\"http://www.w3.org/2000/svg\" height=\"24px\"viewBox=\"0 0 24 24\"\n",
              "       width=\"24px\">\n",
              "    <path d=\"M0 0h24v24H0V0z\" fill=\"none\"/>\n",
              "    <path d=\"M18.56 5.44l.94 2.06.94-2.06 2.06-.94-2.06-.94-.94-2.06-.94 2.06-2.06.94zm-11 1L8.5 8.5l.94-2.06 2.06-.94-2.06-.94L8.5 2.5l-.94 2.06-2.06.94zm10 10l.94 2.06.94-2.06 2.06-.94-2.06-.94-.94-2.06-.94 2.06-2.06.94z\"/><path d=\"M17.41 7.96l-1.37-1.37c-.4-.4-.92-.59-1.43-.59-.52 0-1.04.2-1.43.59L10.3 9.45l-7.72 7.72c-.78.78-.78 2.05 0 2.83L4 21.41c.39.39.9.59 1.41.59.51 0 1.02-.2 1.41-.59l7.78-7.78 2.81-2.81c.8-.78.8-2.07 0-2.86zM5.41 20L4 18.59l7.72-7.72 1.47 1.35L5.41 20z\"/>\n",
              "  </svg>\n",
              "      </button>\n",
              "      \n",
              "  <style>\n",
              "    .colab-df-container {\n",
              "      display:flex;\n",
              "      flex-wrap:wrap;\n",
              "      gap: 12px;\n",
              "    }\n",
              "\n",
              "    .colab-df-convert {\n",
              "      background-color: #E8F0FE;\n",
              "      border: none;\n",
              "      border-radius: 50%;\n",
              "      cursor: pointer;\n",
              "      display: none;\n",
              "      fill: #1967D2;\n",
              "      height: 32px;\n",
              "      padding: 0 0 0 0;\n",
              "      width: 32px;\n",
              "    }\n",
              "\n",
              "    .colab-df-convert:hover {\n",
              "      background-color: #E2EBFA;\n",
              "      box-shadow: 0px 1px 2px rgba(60, 64, 67, 0.3), 0px 1px 3px 1px rgba(60, 64, 67, 0.15);\n",
              "      fill: #174EA6;\n",
              "    }\n",
              "\n",
              "    [theme=dark] .colab-df-convert {\n",
              "      background-color: #3B4455;\n",
              "      fill: #D2E3FC;\n",
              "    }\n",
              "\n",
              "    [theme=dark] .colab-df-convert:hover {\n",
              "      background-color: #434B5C;\n",
              "      box-shadow: 0px 1px 3px 1px rgba(0, 0, 0, 0.15);\n",
              "      filter: drop-shadow(0px 1px 2px rgba(0, 0, 0, 0.3));\n",
              "      fill: #FFFFFF;\n",
              "    }\n",
              "  </style>\n",
              "\n",
              "      <script>\n",
              "        const buttonEl =\n",
              "          document.querySelector('#df-6d1b301e-7714-4f18-91b8-0ffb0b6f8274 button.colab-df-convert');\n",
              "        buttonEl.style.display =\n",
              "          google.colab.kernel.accessAllowed ? 'block' : 'none';\n",
              "\n",
              "        async function convertToInteractive(key) {\n",
              "          const element = document.querySelector('#df-6d1b301e-7714-4f18-91b8-0ffb0b6f8274');\n",
              "          const dataTable =\n",
              "            await google.colab.kernel.invokeFunction('convertToInteractive',\n",
              "                                                     [key], {});\n",
              "          if (!dataTable) return;\n",
              "\n",
              "          const docLinkHtml = 'Like what you see? Visit the ' +\n",
              "            '<a target=\"_blank\" href=https://colab.research.google.com/notebooks/data_table.ipynb>data table notebook</a>'\n",
              "            + ' to learn more about interactive tables.';\n",
              "          element.innerHTML = '';\n",
              "          dataTable['output_type'] = 'display_data';\n",
              "          await google.colab.output.renderOutput(dataTable, element);\n",
              "          const docLink = document.createElement('div');\n",
              "          docLink.innerHTML = docLinkHtml;\n",
              "          element.appendChild(docLink);\n",
              "        }\n",
              "      </script>\n",
              "    </div>\n",
              "  </div>\n",
              "  "
            ]
          },
          "metadata": {},
          "execution_count": 10
        }
      ]
    },
    {
      "cell_type": "markdown",
      "source": [
        "We now have a model that is trained on the training dataset, we can verify it's performance on the validation data and visualize the results"
      ],
      "metadata": {
        "id": "yaKb0JZJxtmY"
      }
    },
    {
      "cell_type": "code",
      "source": [
        "y_pred = gs.predict(x_valid)\n",
        "\n",
        "visualizeResults(x_valid, y_pred)"
      ],
      "metadata": {
        "colab": {
          "base_uri": "https://localhost:8080/",
          "height": 248
        },
        "id": "-Poh-i2WQu72",
        "outputId": "4a9cea40-45ea-476a-f1fd-0492527f8c25"
      },
      "execution_count": null,
      "outputs": [
        {
          "output_type": "display_data",
          "data": {
            "text/plain": [
              "<Figure size 432x288 with 1 Axes>"
            ],
            "image/png": "[encoded data removed]"
          },
          "metadata": {}
        }
      ]
    },
    {
      "cell_type": "markdown",
      "source": [
        "# Section 3: Feature Selection to reduce Bias\n",
        "\n",
        "There is clearly a bias towards men, we can look at some feature selection techniques to see what features are most contributing to our models predictions."
      ],
      "metadata": {
        "id": "0qrTjxbDypt7"
      }
    },
    {
      "cell_type": "markdown",
      "source": [
        "This function takes in a trained pipeline and a list of columns that have been dropped from the data and creates a feature variance threshold bar chart showing the importance of each feature in the classification."
      ],
      "metadata": {
        "id": "XmPmdR4B2HRh"
      }
    },
    {
      "cell_type": "code",
      "source": [
        "def viewFeatures(trainedPipeline, x, droppedColumns=[]):\n",
        "  sort = trainedPipeline['classifier'].feature_importances_.argsort()\n",
        "  featureNames = x.drop(columns=droppedColumns).columns\n",
        "  plt.figure()\n",
        "  plt.barh(featureNames[sort], trainedPipeline['classifier'].feature_importances_[sort])\n",
        "  plt.xlabel(\"Feature Importance\");"
      ],
      "metadata": {
        "id": "VNCOLV4J1Caz"
      },
      "execution_count": null,
      "outputs": []
    },
    {
      "cell_type": "code",
      "source": [
        "# Feature Selection\n",
        "from sklearn.feature_selection import VarianceThreshold\n",
        "selector = VarianceThreshold()\n",
        "selector.fit(x_train)\n",
        "\n",
        "varianceData = pandas.DataFrame(np.vstack([x_train.columns, selector.variances_]))\n",
        "varianceData.head()\n",
        "\n",
        "# visualize feature importance\n",
        "pipe = Pipeline([('scaler', StandardScaler()), ('classifier', RandomForestClassifier(n_estimators=500))]);\n",
        "pipe.fit(x_train, y_train);\n",
        "\n",
        "viewFeatures(pipe, x_train)"
      ],
      "metadata": {
        "colab": {
          "base_uri": "https://localhost:8080/",
          "height": 279
        },
        "id": "I7AMNvIcY-mZ",
        "outputId": "0df7533d-64fa-4bab-bffc-ec62bb7ebbd1"
      },
      "execution_count": null,
      "outputs": [
        {
          "output_type": "display_data",
          "data": {
            "text/plain": [
              "<Figure size 432x288 with 1 Axes>"
            ],
            "image/png": "[encoded data removed]"
          },
          "metadata": {
            "needs_background": "light"
          }
        }
      ]
    },
    {
      "cell_type": "markdown",
      "source": [
        "We can see that sex is contributing to the classification, however it is not among the greatest contributors. What happens if we remove this as a feature in the data?"
      ],
      "metadata": {
        "id": "u_5rXIo9y0QT"
      }
    },
    {
      "cell_type": "markdown",
      "source": [
        "This function takes in the x training and validation data as well as an array of column names to be removed. It then trains a new model and plots the percentage of females versus males hired based on the validation data."
      ],
      "metadata": {
        "id": "Pnm2a4zF16NS"
      }
    },
    {
      "cell_type": "code",
      "source": [
        "def removeFeatures(x_input, x_validation_input, y_input, features):\n",
        "# features = ['Sex']\n",
        "\n",
        "  x_removed = x_input.drop(columns = features)\n",
        "  x_valid_removed = x_validation_input.drop(columns = features)\n",
        "\n",
        "  pipe_removed = Pipeline([('scaler', StandardScaler()),\n",
        "                            ('classifier', RandomForestClassifier(n_estimators=500))]);\n",
        "\n",
        "\n",
        "  pipe_removed.fit(x_removed, y_input);\n",
        "\n",
        "  y_pred_removed = pipe_removed.predict(x_valid_removed)\n",
        "\n",
        "  visualizeResults(x_valid, y_pred_removed)\n",
        "  return pipe_removed"
      ],
      "metadata": {
        "id": "s78YuNFO0fod"
      },
      "execution_count": null,
      "outputs": []
    },
    {
      "cell_type": "code",
      "source": [
        "# Remove sex from training data and refit model\n",
        "columnsToDrop = ['Sex', 'Undergraduate GPA']\n",
        "trainedPipeline = removeFeatures(x_train, x_valid, y_train, columnsToDrop)\n",
        "\n",
        "viewFeatures(trainedPipeline, x_train, columnsToDrop)"
      ],
      "metadata": {
        "colab": {
          "base_uri": "https://localhost:8080/",
          "height": 510
        },
        "id": "f2waOofjw9dd",
        "outputId": "b38da926-c10b-4259-ef51-9cf045392402"
      },
      "execution_count": null,
      "outputs": [
        {
          "output_type": "display_data",
          "data": {
            "text/plain": [
              "<Figure size 432x288 with 1 Axes>"
            ],
            "image/png": "[encoded data removed]"
          },
          "metadata": {}
        },
        {
          "output_type": "display_data",
          "data": {
            "text/plain": [
              "<Figure size 432x288 with 1 Axes>"
            ],
            "image/png": "[encoded data removed]"
          },
          "metadata": {
            "needs_background": "light"
          }
        }
      ]
    },
    {
      "cell_type": "markdown",
      "source": [
        "While this did slightly improve the model, it seems that simply removing the sex feature is not enough to remove the bias. It must be biasing towards men with other features in mind. You can modify the columnsToDrop variable and include different columns to see how that affects the model's classification of men and women."
      ],
      "metadata": {
        "id": "f5gDR9JgCNil"
      }
    },
    {
      "cell_type": "markdown",
      "source": [
        "# Section 4: Sampling Techniques to reduce Bias\n",
        "\n",
        "Removing sex as a feature had a limited effect, we can try some sampling techniques to artifically balance the amount of women in the training data."
      ],
      "metadata": {
        "id": "Q3jb7NYzyACG"
      }
    },
    {
      "cell_type": "code",
      "source": [
        "from imblearn.over_sampling import SMOTE\n",
        "\n",
        "# create balanced data using the SMOTE algorithm\n",
        "sm = SMOTE(random_state=42)\n",
        "balancedX, balancedY = sm.fit_resample(x_train, y_train)\n",
        "\n",
        "trainingDataBreakdown = getPercentFemaleHired(balancedX, balancedY)\n",
        "validationDataBreakdown = getPercentFemaleHired(x_valid, y_valid)\n",
        "\n",
        "visualizeData(trainingDataBreakdown, validationDataBreakdown)\n",
        "\n",
        "# Use the best performing classifier from above\n",
        "pipe_balanced = Pipeline([('scaler', StandardScaler()), ('classifier', RandomForestClassifier(n_estimators=500))]);\n",
        "pipe_balanced.fit(balancedX, balancedY);"
      ],
      "metadata": {
        "id": "7mTMp0nrPIzf",
        "colab": {
          "base_uri": "https://localhost:8080/",
          "height": 336
        },
        "outputId": "483268c1-48d1-491b-e5d7-1c25d44eeaf1"
      },
      "execution_count": null,
      "outputs": [
        {
          "output_type": "display_data",
          "data": {
            "text/plain": [
              "<Figure size 1296x360 with 4 Axes>"
            ],
            "image/png": "[encoded data removed]"
          },
          "metadata": {
            "needs_background": "light"
          }
        }
      ]
    },
    {
      "cell_type": "code",
      "source": [
        "y_pred_balanced = pipe_balanced.predict(x_valid)\n",
        "\n",
        "visualizeResults(x_valid, y_pred_balanced)"
      ],
      "metadata": {
        "colab": {
          "base_uri": "https://localhost:8080/",
          "height": 248
        },
        "id": "HF6y8H_IyaZE",
        "outputId": "8267414d-fc60-4d3e-ba3b-1a40bd289da6"
      },
      "execution_count": null,
      "outputs": [
        {
          "output_type": "display_data",
          "data": {
            "text/plain": [
              "<Figure size 432x288 with 1 Axes>"
            ],
            "image/png": "[encoded data removed]"
          },
          "metadata": {}
        }
      ]
    },
    {
      "cell_type": "markdown",
      "source": [
        "This again, had a slight improvement but not enough to overcome the significant amount of bias in the model."
      ],
      "metadata": {
        "id": "roHrwnskyii_"
      }
    },
    {
      "cell_type": "code",
      "source": [
        "# Try Undersampling here!\n"
      ],
      "metadata": {
        "id": "sZDf-qW4EFOJ"
      },
      "execution_count": null,
      "outputs": []
    }
  ]
}